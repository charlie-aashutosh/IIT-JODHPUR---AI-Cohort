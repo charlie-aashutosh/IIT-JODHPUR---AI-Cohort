{
  "nbformat": 4,
  "nbformat_minor": 0,
  "metadata": {
    "colab": {
      "provenance": []
    },
    "kernelspec": {
      "name": "python3",
      "display_name": "Python 3"
    },
    "language_info": {
      "name": "python"
    }
  },
  "cells": [
    {
      "cell_type": "markdown",
      "source": [
        "Q.10. A code to generate a synthetic data is provided to you which showcases Employee Performance Dataset where we simulate 1,000 employees with features like age, department, years of experience, performance score, salary, training hours etc.\n",
        "\n",
        "Visualize the following KPIs and gather insights from it:\n",
        "\n",
        "- Generate a visualization of distribution of experience and find out how many employees fall under 0-5 years of experience.\n",
        "\n",
        "- Out of several unique department categories, find:\n",
        "\n",
        "      which department provides highest salary and  \n",
        "\n",
        "      which department provides lowest salary  "
      ],
      "metadata": {
        "id": "ATOZOQlNqjoy"
      }
    },
    {
      "cell_type": "code",
      "execution_count": 1,
      "metadata": {
        "id": "aUUV2S4smmVR"
      },
      "outputs": [],
      "source": [
        "import numpy as np\n",
        "import pandas as pd\n",
        "import matplotlib.pyplot as plt\n",
        "import seaborn as sns\n",
        "\n",
        "# Number of employees\n",
        "n = 1000\n",
        "\n",
        "# Simulate dataset\n",
        "employee_data = pd.DataFrame({\n",
        "    'EmployeeID': np.arange(1, n+1),\n",
        "    'Age': np.random.normal(loc=35, scale=8, size=n).astype(int),\n",
        "    'Department': np.random.choice(['Sales', 'HR', 'Engineering', 'Finance', 'Marketing'],\n",
        "                                   size=n, p=[0.25,0.1,0.35,0.15,0.15]),\n",
        "    'ExperienceYears': np.random.exponential(scale=5, size=n).astype(int),\n",
        "    'MonthlySalary': np.random.normal(loc=50000, scale=15000, size=n).astype(int),\n",
        "    'PerformanceScore': np.random.choice([1,2,3,4,5], size=n, p=[0.05,0.1,0.4,0.3,0.15]),\n",
        "    'AnnualTrainingHours': np.random.randint(5, 80, size=n),\n",
        "    'PromotionLast2Yrs': np.random.choice(['Yes','No'], size=n, p=[0.15,0.85]),\n",
        "    # NEW KPIs\n",
        "    'WorkLifeBalanceScore': np.random.choice([1,2,3,4,5], size=n, p=[0.05,0.1,0.25,0.4,0.2]),\n",
        "    'OvertimeHours': np.random.randint(0, 50, size=n),\n",
        "    'LeavesTaken': np.random.randint(0, 25, size=n)\n",
        "})\n",
        "\n",
        "# Clip to realistic bounds\n",
        "employee_data['Age'] = employee_data['Age'].clip(22, 60)\n",
        "employee_data['ExperienceYears'] = employee_data['ExperienceYears'].clip(0, 35)\n",
        "employee_data['MonthlySalary'] = employee_data['MonthlySalary'].clip(20000, 120000)"
      ]
    },
    {
      "cell_type": "markdown",
      "source": [
        "What this dataset includes\n",
        "\n",
        "Age → Normally distributed around 35 (clipped 22–60)\n",
        "\n",
        "Department → Sales, HR, Engineering, Finance, Marketing\n",
        "\n",
        "ExperienceYears → Exponentially distributed (more juniors, fewer seniors)\n",
        "\n",
        "MonthlySalary → Normal distribution but correlated with experience\n",
        "\n",
        "PerformanceScore → Categorical (1–5) with more mid-range performers\n",
        "\n",
        "AnnualTrainingHours → Random (5–80 hours)\n",
        "\n",
        "PromotionLast2Yrs → Yes/No (biased towards No)"
      ],
      "metadata": {
        "id": "_ThHY24XqupT"
      }
    },
    {
      "cell_type": "code",
      "source": [],
      "metadata": {
        "id": "oxONpGQYqveR"
      },
      "execution_count": null,
      "outputs": []
    }
  ]
}